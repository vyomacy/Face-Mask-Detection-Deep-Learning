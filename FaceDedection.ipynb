{
  "nbformat": 4,
  "nbformat_minor": 0,
  "metadata": {
    "colab": {
      "name": "FaceDedection.ipynb",
      "provenance": []
    },
    "kernelspec": {
      "name": "python3",
      "display_name": "Python 3"
    },
    "accelerator": "GPU"
  },
  "cells": [
    {
      "cell_type": "code",
      "metadata": {
        "id": "SdMzw2uoKraB",
        "colab_type": "code",
        "colab": {}
      },
      "source": [
        "# import the necessary packages\n",
        "from tensorflow.keras.preprocessing.image import ImageDataGenerator\n",
        "from tensorflow.keras.applications import MobileNetV2\n",
        "from tensorflow.keras.layers import AveragePooling2D\n",
        "from tensorflow.keras.layers import Dropout\n",
        "from tensorflow.keras.layers import Flatten\n",
        "from tensorflow.keras.layers import Dense\n",
        "from tensorflow.keras.layers import Input\n",
        "from tensorflow.keras.models import Model\n",
        "from tensorflow.keras.optimizers import Adam\n",
        "from tensorflow.keras.applications.mobilenet_v2 import preprocess_input\n",
        "from tensorflow.keras.preprocessing.image import img_to_array\n",
        "from tensorflow.keras.preprocessing.image import load_img\n",
        "from tensorflow.keras.utils import to_categorical\n",
        "from sklearn.preprocessing import LabelBinarizer\n",
        "from sklearn.model_selection import train_test_split\n",
        "from sklearn.metrics import classification_report\n",
        "from imutils import paths\n",
        "import matplotlib.pyplot as plt\n",
        "import numpy as np\n",
        "import argparse\n",
        "import os\n",
        "import warnings\n",
        "warnings.filterwarnings('ignore')"
      ],
      "execution_count": 2,
      "outputs": []
    },
    {
      "cell_type": "code",
      "metadata": {
        "id": "e-BPJjxzLZaQ",
        "colab_type": "code",
        "colab": {
          "base_uri": "https://localhost:8080/",
          "height": 34
        },
        "outputId": "5a377cfa-ed68-4700-ad5f-bb8ebe58cb07"
      },
      "source": [
        "import os\n",
        "import numpy as np\n",
        "import matplotlib.pyplot as plt\n",
        "import cv2\n",
        "from google.colab import drive\n",
        "\n",
        "# Accessing My Google Drive\n",
        "drive.mount('/content/drive')"
      ],
      "execution_count": 3,
      "outputs": [
        {
          "output_type": "stream",
          "text": [
            "Drive already mounted at /content/drive; to attempt to forcibly remount, call drive.mount(\"/content/drive\", force_remount=True).\n"
          ],
          "name": "stdout"
        }
      ]
    },
    {
      "cell_type": "code",
      "metadata": {
        "id": "NTJqKzS0LZgC",
        "colab_type": "code",
        "colab": {}
      },
      "source": [
        "# defining global variable path\n",
        "# Location of my dataset on My Google Drive\n",
        "path = \"drive/My Drive/dataset\"\n",
        "import tensorflow as tf\n",
        "\n",
        "def loadImages(path):\n",
        "  image_files = list(paths.list_images(path))\n",
        "  return image_files"
      ],
      "execution_count": 4,
      "outputs": []
    },
    {
      "cell_type": "code",
      "metadata": {
        "id": "5vh4WhmQLZlr",
        "colab_type": "code",
        "colab": {}
      },
      "source": [
        "imagePaths=loadImages(path)"
      ],
      "execution_count": 5,
      "outputs": []
    },
    {
      "cell_type": "code",
      "metadata": {
        "id": "m6S_CJH-LZw1",
        "colab_type": "code",
        "colab": {}
      },
      "source": [
        "# In[ ]:\n",
        "\n",
        "# initialize the initial learning rate, number of epochs to train for,\n",
        "# and batch size\n",
        "INIT_LR = 1e-4\n",
        "EPOCHS = 20\n",
        "BS = 32\n",
        "\n",
        "data = []\n",
        "labels = []"
      ],
      "execution_count": 8,
      "outputs": []
    },
    {
      "cell_type": "code",
      "metadata": {
        "id": "8OpIQ2xJLZ4J",
        "colab_type": "code",
        "colab": {}
      },
      "source": [
        "\n",
        "# loop over the image paths\n",
        "for imagePath in imagePaths:\n",
        "\t# extract the class label from the filename\n",
        "\tlabel = imagePath.split(os.path.sep)[-2]\n",
        "\n",
        "\t# load the input image (224x224) and preprocess it\n",
        "\timage = load_img(imagePath, target_size=(224, 224))\n",
        "\timage = img_to_array(image)\n",
        "\timage = preprocess_input(image)\n",
        "\n",
        "\t# update the data and labels lists, respectively\n",
        "\tdata.append(image)\n",
        "\tlabels.append(label)\n",
        "\n",
        "# convert the data and labels to NumPy arrays\n",
        "data = np.array(data, dtype=\"float32\")\n",
        "labels = np.array(labels)\n",
        "\n",
        "# perform one-hot encoding on the labels\n",
        "lb = LabelBinarizer()\n",
        "labels = lb.fit_transform(labels)\n",
        "labels = to_categorical(labels)"
      ],
      "execution_count": 9,
      "outputs": []
    },
    {
      "cell_type": "code",
      "metadata": {
        "id": "5okEzsAgLZ9Z",
        "colab_type": "code",
        "colab": {}
      },
      "source": [
        "# In[ ]:\n",
        "# partition the data into training and testing splits using 75% of\n",
        "# the data for training and the remaining 25% for testing\n",
        "(trainX, testX, trainY, testY) = train_test_split(data, labels,\n",
        "\ttest_size=0.20, stratify=labels, random_state=42)"
      ],
      "execution_count": 10,
      "outputs": []
    },
    {
      "cell_type": "code",
      "metadata": {
        "id": "0LrQcPFgLZ3J",
        "colab_type": "code",
        "colab": {}
      },
      "source": [
        "# construct the training image generator for data augmentation\n",
        "aug = ImageDataGenerator(\n",
        "\trotation_range=20,\n",
        "\tzoom_range=0.15,\n",
        "\twidth_shift_range=0.2,\n",
        "\theight_shift_range=0.2,\n",
        "\tshear_range=0.15,\n",
        "\thorizontal_flip=True,\n",
        "\tfill_mode=\"nearest\")"
      ],
      "execution_count": 11,
      "outputs": []
    },
    {
      "cell_type": "code",
      "metadata": {
        "id": "9SEQYC9PLZqn",
        "colab_type": "code",
        "colab": {
          "base_uri": "https://localhost:8080/",
          "height": 88
        },
        "outputId": "c7bc94dc-fae3-4370-eab8-c6a726bb5422"
      },
      "source": [
        "\n",
        "# load the MobileNetV2 network, ensuring the head FC layer sets are\n",
        "# left off\n",
        "baseModel = MobileNetV2(weights=\"imagenet\", include_top=False,\n",
        "\tinput_tensor=Input(shape=(224, 224, 3)))"
      ],
      "execution_count": 12,
      "outputs": [
        {
          "output_type": "stream",
          "text": [
            "WARNING:tensorflow:`input_shape` is undefined or non-square, or `rows` is not in [96, 128, 160, 192, 224]. Weights for input shape (224, 224) will be loaded as the default.\n",
            "Downloading data from https://storage.googleapis.com/tensorflow/keras-applications/mobilenet_v2/mobilenet_v2_weights_tf_dim_ordering_tf_kernels_1.0_224_no_top.h5\n",
            "9412608/9406464 [==============================] - 0s 0us/step\n"
          ],
          "name": "stdout"
        }
      ]
    },
    {
      "cell_type": "code",
      "metadata": {
        "id": "k3j_PHBkLZkg",
        "colab_type": "code",
        "colab": {}
      },
      "source": [
        "# construct the head of the model that will be placed on top of the\n",
        "# the base model\n",
        "headModel = baseModel.output\n",
        "headModel = AveragePooling2D(pool_size=(7, 7))(headModel)\n",
        "headModel = Flatten(name=\"flatten\")(headModel)\n",
        "headModel = Dense(128, activation=\"relu\")(headModel)\n",
        "headModel = Dropout(0.5)(headModel)\n",
        "headModel = Dense(2, activation=\"softmax\")(headModel)"
      ],
      "execution_count": 13,
      "outputs": []
    },
    {
      "cell_type": "code",
      "metadata": {
        "id": "uXw_4zKbLZe-",
        "colab_type": "code",
        "colab": {}
      },
      "source": [
        "# place the head FC model on top of the base model (this will become\n",
        "# the actual model we will train)\n",
        "model = Model(inputs=baseModel.input, outputs=headModel)"
      ],
      "execution_count": 14,
      "outputs": []
    },
    {
      "cell_type": "code",
      "metadata": {
        "id": "urWwPs7BLZZS",
        "colab_type": "code",
        "colab": {}
      },
      "source": [
        "# loop over all layers in the base model and freeze them so they will\n",
        "# *not* be updated during the first training process\n",
        "for layer in baseModel.layers:\n",
        "\tlayer.trainable = False"
      ],
      "execution_count": 15,
      "outputs": []
    },
    {
      "cell_type": "code",
      "metadata": {
        "id": "cK2NTRsFLZS7",
        "colab_type": "code",
        "colab": {
          "base_uri": "https://localhost:8080/",
          "height": 34
        },
        "outputId": "e2e17d9d-55aa-470d-c36e-4dcc2a7b7459"
      },
      "source": [
        "# compile our model\n",
        "print(\"[INFO] compiling model...\")\n",
        "opt = Adam(lr=INIT_LR, decay=INIT_LR / EPOCHS)\n",
        "model.compile(loss=\"binary_crossentropy\", optimizer=opt,metrics=[\"accuracy\"])"
      ],
      "execution_count": 16,
      "outputs": [
        {
          "output_type": "stream",
          "text": [
            "[INFO] compiling model...\n"
          ],
          "name": "stdout"
        }
      ]
    },
    {
      "cell_type": "code",
      "metadata": {
        "id": "BfEs5y7gqtDr",
        "colab_type": "code",
        "colab": {
          "base_uri": "https://localhost:8080/",
          "height": 714
        },
        "outputId": "da01223a-63c1-4822-dd70-e8e46d50fa92"
      },
      "source": [
        "# train the head of the network\n",
        "print(\"[INFO] training head...\")\n",
        "H = model.fit(\n",
        "\taug.flow(trainX, trainY, batch_size=BS),\n",
        "\tsteps_per_epoch=len(trainX) // BS,\n",
        "\tvalidation_data=(testX, testY),\n",
        "\tvalidation_steps=len(testX) // BS,\n",
        "\tepochs=EPOCHS)"
      ],
      "execution_count": 17,
      "outputs": [
        {
          "output_type": "stream",
          "text": [
            "[INFO] training head...\n",
            "Epoch 1/20\n",
            "95/95 [==============================] - 39s 409ms/step - loss: 0.3372 - accuracy: 0.8476 - val_loss: 0.0980 - val_accuracy: 0.9740\n",
            "Epoch 2/20\n",
            "95/95 [==============================] - 38s 397ms/step - loss: 0.1141 - accuracy: 0.9608 - val_loss: 0.0679 - val_accuracy: 0.9792\n",
            "Epoch 3/20\n",
            "95/95 [==============================] - 38s 396ms/step - loss: 0.0777 - accuracy: 0.9727 - val_loss: 0.0518 - val_accuracy: 0.9818\n",
            "Epoch 4/20\n",
            "95/95 [==============================] - 37s 392ms/step - loss: 0.0661 - accuracy: 0.9799 - val_loss: 0.0587 - val_accuracy: 0.9805\n",
            "Epoch 5/20\n",
            "95/95 [==============================] - 37s 389ms/step - loss: 0.0599 - accuracy: 0.9776 - val_loss: 0.0519 - val_accuracy: 0.9818\n",
            "Epoch 6/20\n",
            "95/95 [==============================] - 38s 400ms/step - loss: 0.0481 - accuracy: 0.9842 - val_loss: 0.0334 - val_accuracy: 0.9883\n",
            "Epoch 7/20\n",
            "95/95 [==============================] - 38s 401ms/step - loss: 0.0459 - accuracy: 0.9852 - val_loss: 0.0428 - val_accuracy: 0.9831\n",
            "Epoch 8/20\n",
            "95/95 [==============================] - 38s 399ms/step - loss: 0.0456 - accuracy: 0.9839 - val_loss: 0.0349 - val_accuracy: 0.9883\n",
            "Epoch 9/20\n",
            "95/95 [==============================] - 38s 397ms/step - loss: 0.0413 - accuracy: 0.9875 - val_loss: 0.0353 - val_accuracy: 0.9870\n",
            "Epoch 10/20\n",
            "95/95 [==============================] - 38s 401ms/step - loss: 0.0352 - accuracy: 0.9898 - val_loss: 0.0278 - val_accuracy: 0.9922\n",
            "Epoch 11/20\n",
            "95/95 [==============================] - 38s 397ms/step - loss: 0.0362 - accuracy: 0.9891 - val_loss: 0.0310 - val_accuracy: 0.9896\n",
            "Epoch 12/20\n",
            "95/95 [==============================] - 38s 397ms/step - loss: 0.0304 - accuracy: 0.9908 - val_loss: 0.0335 - val_accuracy: 0.9883\n",
            "Epoch 13/20\n",
            "95/95 [==============================] - 37s 394ms/step - loss: 0.0300 - accuracy: 0.9921 - val_loss: 0.0240 - val_accuracy: 0.9922\n",
            "Epoch 14/20\n",
            "95/95 [==============================] - 38s 395ms/step - loss: 0.0277 - accuracy: 0.9914 - val_loss: 0.0211 - val_accuracy: 0.9948\n",
            "Epoch 15/20\n",
            "95/95 [==============================] - 38s 405ms/step - loss: 0.0271 - accuracy: 0.9901 - val_loss: 0.0269 - val_accuracy: 0.9896\n",
            "Epoch 16/20\n",
            "95/95 [==============================] - 38s 405ms/step - loss: 0.0323 - accuracy: 0.9905 - val_loss: 0.0263 - val_accuracy: 0.9909\n",
            "Epoch 17/20\n",
            "95/95 [==============================] - 38s 405ms/step - loss: 0.0279 - accuracy: 0.9914 - val_loss: 0.0254 - val_accuracy: 0.9909\n",
            "Epoch 18/20\n",
            "95/95 [==============================] - 38s 402ms/step - loss: 0.0315 - accuracy: 0.9898 - val_loss: 0.0267 - val_accuracy: 0.9896\n",
            "Epoch 19/20\n",
            "95/95 [==============================] - 38s 403ms/step - loss: 0.0264 - accuracy: 0.9908 - val_loss: 0.0216 - val_accuracy: 0.9922\n",
            "Epoch 20/20\n",
            "95/95 [==============================] - 39s 412ms/step - loss: 0.0242 - accuracy: 0.9928 - val_loss: 0.0209 - val_accuracy: 0.9935\n"
          ],
          "name": "stdout"
        }
      ]
    },
    {
      "cell_type": "code",
      "metadata": {
        "id": "DlpFE6NdqwrA",
        "colab_type": "code",
        "colab": {
          "base_uri": "https://localhost:8080/",
          "height": 34
        },
        "outputId": "029ca2cd-407a-4663-aa03-9c95dc439d68"
      },
      "source": [
        "# make predictions on the testing set\n",
        "print(\"[INFO] evaluating network...\")\n",
        "predIdxs = model.predict(testX, batch_size=BS)"
      ],
      "execution_count": 18,
      "outputs": [
        {
          "output_type": "stream",
          "text": [
            "[INFO] evaluating network...\n"
          ],
          "name": "stdout"
        }
      ]
    },
    {
      "cell_type": "code",
      "metadata": {
        "id": "i1OYRBBFqwyZ",
        "colab_type": "code",
        "colab": {}
      },
      "source": [
        "# for each image in the testing set we need to find the index of the\n",
        "# label with corresponding largest predicted probability\n",
        "predIdxs = np.argmax(predIdxs, axis=1)\n"
      ],
      "execution_count": 19,
      "outputs": []
    },
    {
      "cell_type": "code",
      "metadata": {
        "id": "3-1vdcRyqw4Z",
        "colab_type": "code",
        "colab": {
          "base_uri": "https://localhost:8080/",
          "height": 170
        },
        "outputId": "1672cc6f-fdde-4ca4-d572-7b8df612680a"
      },
      "source": [
        "# show a nicely formatted classification report\n",
        "print(classification_report(testY.argmax(axis=1), predIdxs,target_names=lb.classes_))"
      ],
      "execution_count": 21,
      "outputs": [
        {
          "output_type": "stream",
          "text": [
            "              precision    recall  f1-score   support\n",
            "\n",
            "   with_mask       0.99      1.00      0.99       384\n",
            "without_mask       1.00      0.99      0.99       384\n",
            "\n",
            "    accuracy                           0.99       768\n",
            "   macro avg       0.99      0.99      0.99       768\n",
            "weighted avg       0.99      0.99      0.99       768\n",
            "\n"
          ],
          "name": "stdout"
        }
      ]
    },
    {
      "cell_type": "code",
      "metadata": {
        "id": "CaX0NGZIq5hu",
        "colab_type": "code",
        "colab": {
          "base_uri": "https://localhost:8080/",
          "height": 34
        },
        "outputId": "afc278d1-f08d-4966-c458-6ab49badbf7c"
      },
      "source": [
        "# serialize the model to disk\n",
        "print(\"[INFO] saving mask detector model...\")\n",
        "model.save('my_model.h5')"
      ],
      "execution_count": 22,
      "outputs": [
        {
          "output_type": "stream",
          "text": [
            "[INFO] saving mask detector model...\n"
          ],
          "name": "stdout"
        }
      ]
    },
    {
      "cell_type": "code",
      "metadata": {
        "id": "2ur7PfpJq5uj",
        "colab_type": "code",
        "colab": {
          "base_uri": "https://localhost:8080/",
          "height": 299
        },
        "outputId": "0a2f1282-c43c-48f6-f81f-fea5410c00cf"
      },
      "source": [
        "# plot the training loss and accuracy\n",
        "N = EPOCHS\n",
        "plt.style.use(\"ggplot\")\n",
        "plt.figure()\n",
        "plt.plot(np.arange(0, N), H.history[\"loss\"], label=\"train_loss\")\n",
        "plt.plot(np.arange(0, N), H.history[\"val_loss\"], label=\"val_loss\")\n",
        "plt.plot(np.arange(0, N), H.history[\"accuracy\"], label=\"train_acc\")\n",
        "plt.plot(np.arange(0, N), H.history[\"val_accuracy\"], label=\"val_acc\")\n",
        "plt.title(\"Training Loss and Accuracy\")\n",
        "plt.xlabel(\"Epoch #\")\n",
        "plt.ylabel(\"Loss/Accuracy\")\n",
        "plt.legend(loc=\"lower left\")\n",
        "plt.savefig('plot.png')"
      ],
      "execution_count": 25,
      "outputs": [
        {
          "output_type": "display_data",
          "data": {
            "image/png": "[encoded data removed]",
            "text/plain": [
              "<Figure size 432x288 with 1 Axes>"
            ]
          },
          "metadata": {
            "tags": []
          }
        }
      ]
    },
    {
      "cell_type": "code",
      "metadata": {
        "id": "jlqofAdnq58p",
        "colab_type": "code",
        "colab": {}
      },
      "source": [
        ""
      ],
      "execution_count": null,
      "outputs": []
    }
  ]
}